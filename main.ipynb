{
 "cells": [
  {
   "cell_type": "code",
   "execution_count": 22,
   "metadata": {},
   "outputs": [
    {
     "data": {
      "text/html": [
       "\n",
       "        <iframe\n",
       "            width=\"100%\"\n",
       "            height=\"650\"\n",
       "            src=\"http://127.0.0.1:8050/\"\n",
       "            frameborder=\"0\"\n",
       "            allowfullscreen\n",
       "            \n",
       "        ></iframe>\n",
       "        "
      ],
      "text/plain": [
       "<IPython.lib.display.IFrame at 0x1820257d2b0>"
      ]
     },
     "metadata": {},
     "output_type": "display_data"
    }
   ],
   "source": [
    "import requests\n",
    "from bs4 import BeautifulSoup\n",
    "import re\n",
    "import pandas as pd\n",
    "from dash import Dash, dcc, html, dash_table\n",
    "import plotly.express as px\n",
    "\n",
    "def extract_all_high_temperatures():\n",
    "    # URL for NYC's weather forecast\n",
    "    url = \"https://forecast.weather.gov/MapClick.php?lat=40.7128&lon=-74.0060\"\n",
    "    response = requests.get(url)\n",
    "    soup = BeautifulSoup(response.content, \"html.parser\")\n",
    "    \n",
    "    # Find all high temperature texts using regex\n",
    "    page_text = soup.get_text()\n",
    "    high_temp_matches = re.findall(r\"High:\\s*(\\d+)\\s*°F\", page_text)\n",
    "    \n",
    "    # Convert matches to integers\n",
    "    high_temps = [int(temp) for temp in high_temp_matches]\n",
    "    return high_temps\n",
    "\n",
    "# Test the function\n",
    "high_temperatures = extract_all_high_temperatures()\n",
    "\n",
    "# Step 2: Prepare Data for the Dashboard\n",
    "# Simulating timestamps for visualization purposes\n",
    "dates = pd.date_range(start=\"2024-11-28\", periods=len(high_temperatures), freq=\"D\")\n",
    "data = pd.DataFrame({\"Date\": dates, \"High Temperature (°F)\": high_temperatures})\n",
    "\n",
    "# Step 3: Build the Dashboard\n",
    "app = Dash(__name__)\n",
    "\n",
    "app.layout = html.Div([\n",
    "    html.H1(\"NYC High Temperature Forecast\", style={'textAlign': 'center'}),\n",
    "    \n",
    "    dash_table.DataTable(\n",
    "        id='high-temp-table',\n",
    "        columns=[\n",
    "            {\"name\": \"Date\", \"id\": \"Date\", \"type\": \"datetime\"},\n",
    "            {\"name\": \"High Temperature (°F)\", \"id\": \"High Temperature (°F)\", \"type\": \"numeric\"}\n",
    "        ],\n",
    "        data=data.to_dict(\"records\"),  # Convert DataFrame to a format DataTable understands\n",
    "        style_table={'margin': '0 auto', 'width': '60%'},  # Center and adjust table width\n",
    "        style_header={'backgroundColor': 'rgb(230, 230, 230)', 'fontWeight': 'bold'},\n",
    "        style_cell={'textAlign': 'center', 'padding': '5px'},\n",
    "        style_data_conditional=[\n",
    "            {\n",
    "                'if': {'filter_query': '{High Temperature (°F)} >= 50', 'column_id': 'High Temperature (°F)'},\n",
    "                'backgroundColor': 'tomato',\n",
    "                'color': 'white',\n",
    "                'fontWeight': 'bold'\n",
    "            },\n",
    "            {\n",
    "                'if': {'filter_query': '{High Temperature (°F)} < 50', 'column_id': 'High Temperature (°F)'},\n",
    "                'backgroundColor': 'lightgreen',\n",
    "                'color': 'black'\n",
    "            }\n",
    "        ],\n",
    "        sort_action=\"native\",  # Enable sorting\n",
    "        filter_action=\"native\"  # Enable filtering\n",
    "    )\n",
    "])\n",
    "\n",
    "# Step 4: Run the Dashboard\n",
    "if __name__ == \"__main__\":\n",
    "    app.run_server(debug=True)\n"
   ]
  },
  {
   "cell_type": "code",
   "execution_count": null,
   "metadata": {},
   "outputs": [],
   "source": []
  }
 ],
 "metadata": {
  "kernelspec": {
   "display_name": "Python 3",
   "language": "python",
   "name": "python3"
  },
  "language_info": {
   "codemirror_mode": {
    "name": "ipython",
    "version": 3
   },
   "file_extension": ".py",
   "mimetype": "text/x-python",
   "name": "python",
   "nbconvert_exporter": "python",
   "pygments_lexer": "ipython3",
   "version": "3.12.1"
  }
 },
 "nbformat": 4,
 "nbformat_minor": 2
}
